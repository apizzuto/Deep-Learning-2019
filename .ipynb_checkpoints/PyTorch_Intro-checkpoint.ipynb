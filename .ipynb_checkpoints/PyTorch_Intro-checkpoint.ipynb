{
 "cells": [
  {
   "cell_type": "markdown",
   "metadata": {},
   "source": [
    "# Code Snippets to Accompany Linear_Algebra_for_DL.md"
   ]
  },
  {
   "cell_type": "code",
   "execution_count": 1,
   "metadata": {},
   "outputs": [],
   "source": [
    "import torch\n",
    "import numpy as np"
   ]
  },
  {
   "cell_type": "markdown",
   "metadata": {},
   "source": [
    "Main data structures in PyTorch are tensors"
   ]
  },
  {
   "cell_type": "code",
   "execution_count": 2,
   "metadata": {},
   "outputs": [
    {
     "name": "stdout",
     "output_type": "stream",
     "text": [
      "<class 'numpy.ndarray'> float64 (3,)\n",
      "<class 'torch.Tensor'> torch.float32 torch.Size([3])\n"
     ]
    }
   ],
   "source": [
    "a = np.array([1., 2., 3.])\n",
    "b = torch.tensor([1., 2., 3.])\n",
    "\n",
    "print(type(a), a.dtype, a.shape)\n",
    "print(type(b), b.dtype, b.shape)"
   ]
  },
  {
   "cell_type": "markdown",
   "metadata": {},
   "source": [
    "Multiplication (dot-product) has a similar structure between the two libraries"
   ]
  },
  {
   "cell_type": "code",
   "execution_count": 3,
   "metadata": {},
   "outputs": [
    {
     "name": "stdout",
     "output_type": "stream",
     "text": [
      "numpy 'dot'     --> 14.0\n",
      "torch 'matmul'  --> tensor(14.)\n"
     ]
    }
   ],
   "source": [
    "print(\"numpy 'dot'     -->\", a.dot(a))\n",
    "print(\"torch 'matmul'  -->\", b.matmul(b))"
   ]
  },
  {
   "cell_type": "markdown",
   "metadata": {},
   "source": [
    "There are methods in PyTorch for converting between the two data types"
   ]
  },
  {
   "cell_type": "code",
   "execution_count": 4,
   "metadata": {},
   "outputs": [
    {
     "name": "stdout",
     "output_type": "stream",
     "text": [
      "<class 'numpy.ndarray'> [1. 2. 3.]\n",
      "<class 'torch.Tensor'> tensor([1., 2., 3.], dtype=torch.float64)\n"
     ]
    }
   ],
   "source": [
    "print(type(b.numpy()), b.numpy())               #torch tensor to np array\n",
    "print(type(torch.tensor(a)), torch.tensor(a))   #np array to torch tensor"
   ]
  },
  {
   "cell_type": "markdown",
   "metadata": {},
   "source": [
    "PyTorch is picky about specifying data types. For example, the following cell returns an error because the two tensors have different data types of floats vs integers. "
   ]
  },
  {
   "cell_type": "code",
   "execution_count": 5,
   "metadata": {},
   "outputs": [
    {
     "name": "stdout",
     "output_type": "stream",
     "text": [
      "RuntimeError: expected type torch.FloatTensor but got torch.LongTensor\n"
     ]
    }
   ],
   "source": [
    "c = torch.tensor([1., 2., 3.])\n",
    "d = torch.tensor([1, 2, 3])\n",
    "\n",
    "try: \n",
    "    print(c - d)\n",
    "except RuntimeError as e:\n",
    "    print('RuntimeError:', e)"
   ]
  },
  {
   "cell_type": "markdown",
   "metadata": {},
   "source": [
    "The error is fixed by specifying the data types..."
   ]
  },
  {
   "cell_type": "code",
   "execution_count": 6,
   "metadata": {},
   "outputs": [
    {
     "name": "stdout",
     "output_type": "stream",
     "text": [
      "tensor([0., 0., 0.])\n"
     ]
    }
   ],
   "source": [
    "c = torch.tensor([1., 2., 3.], dtype=torch.float)\n",
    "d = torch.tensor([1, 2, 3], dtype=torch.float)\n",
    "\n",
    "print(c - d)"
   ]
  },
  {
   "cell_type": "markdown",
   "metadata": {},
   "source": [
    "To make this process simpler, PyTorch tensors have built in methods for changing data types on the fly."
   ]
  },
  {
   "cell_type": "code",
   "execution_count": 7,
   "metadata": {},
   "outputs": [
    {
     "name": "stdout",
     "output_type": "stream",
     "text": [
      "Float:  tensor([0., 0., 0.])\n",
      "Double: tensor([0., 0., 0.], dtype=torch.float64)\n",
      "Long:   tensor([0, 0, 0])\n",
      "Int:    tensor([0, 0, 0], dtype=torch.int32)\n",
      "\n",
      "Note that these methods return copies of the tensor and do not modify it.\n",
      "The original tensors are still in memory:\n",
      "tensor([1., 2., 3.])\n",
      "tensor([1, 2, 3])\n"
     ]
    }
   ],
   "source": [
    "c = torch.tensor([1., 2., 3.])\n",
    "d = torch.tensor([1, 2, 3])\n",
    "\n",
    "print(\"Float: \", c.float() - d.float())\n",
    "print(\"Double:\", c.double() - d.double())\n",
    "print(\"Long:  \", c.long() - d.long())\n",
    "print(\"Int:   \", c.int() - d.int())\n",
    "\n",
    "print('\\nNote that these methods return copies of the tensor and do not modify it.')\n",
    "print('The original tensors are still in memory:')\n",
    "print(c)\n",
    "print(d)"
   ]
  },
  {
   "cell_type": "markdown",
   "metadata": {},
   "source": [
    "PyTorch is similar to Numpy, but is able to speed up calculations using GPUs. If this notebook is buing run with access to a GPU, the following cell will demonstrate how to load data onto a GPU. We will work with cloud GPU computing later on in the semester."
   ]
  },
  {
   "cell_type": "code",
   "execution_count": 8,
   "metadata": {},
   "outputs": [
    {
     "name": "stdout",
     "output_type": "stream",
     "text": [
      "This computer does not have access to a GPU\n"
     ]
    }
   ],
   "source": [
    "if torch.cuda.is_available():\n",
    "    #Send data to GPU\n",
    "    b = b.to(torch.device('cuda:0'))\n",
    "    print(b)\n",
    "    \n",
    "    #Retrieve data from GPU\n",
    "    b = b.to(torch.device('cpu'))\n",
    "    print(b)\n",
    "    \n",
    "else:\n",
    "    print(\"This computer does not have access to a GPU\")"
   ]
  },
  {
   "cell_type": "markdown",
   "metadata": {},
   "source": [
    "PyTorch tensors support element-wise operations, similar to Numpy arrays, but dissimilar from mathematical tensors."
   ]
  },
  {
   "cell_type": "code",
   "execution_count": 9,
   "metadata": {},
   "outputs": [
    {
     "name": "stdout",
     "output_type": "stream",
     "text": [
      "a =  tensor([1, 2, 3])\n",
      "b =  tensor([4, 5, 6]) \n",
      "\n",
      "a * b =  tensor([ 4, 10, 18])\n",
      "b * 2 =  tensor([ 8, 10, 12])\n",
      "a + b =  tensor([5, 7, 9])\n",
      "a + 1 =  tensor([2, 3, 4])\n"
     ]
    }
   ],
   "source": [
    "a = torch.tensor([1, 2, 3])\n",
    "b = torch.tensor([4, 5, 6])\n",
    "\n",
    "print('a = ', a)\n",
    "print('b = ', b, '\\n')\n",
    "\n",
    "print('a * b = ', a * b)   #element-wise vector multiplication\n",
    "print('b * 2 = ', b * 2)   #element-wise scalar multiplication\n",
    "print('a + b = ', a + b)   #element-wise vector addition\n",
    "print('a + 1 = ', a + 1)   #element-wise scalar addition"
   ]
  },
  {
   "cell_type": "markdown",
   "metadata": {},
   "source": [
    "Like Numpy, PyTorch broadcasts operations. The example below shows how traditional matrix multiplication is carried-out. Other operations can be broadcast to make the use seem less trivial."
   ]
  },
  {
   "cell_type": "code",
   "execution_count": 10,
   "metadata": {},
   "outputs": [
    {
     "name": "stdout",
     "output_type": "stream",
     "text": [
      "X =  tensor([[0, 1, 2],\n",
      "        [3, 4, 5]])\n",
      "w =  tensor([1, 2, 3])\n",
      "X.matmul(w) =  tensor([ 8, 26])\n",
      "\n",
      "Now compare to result with a re-shaped w\n",
      "w =  tensor([[1],\n",
      "        [2],\n",
      "        [3]])\n",
      "X.matmul(w) =  tensor([[ 8],\n",
      "        [26]])\n"
     ]
    }
   ],
   "source": [
    "X = torch.arange(6).view(2,3)\n",
    "print('X = ', X)\n",
    "\n",
    "w = torch.tensor([1,2,3])\n",
    "print('w = ', w)\n",
    "\n",
    "Xw = X.matmul(w)\n",
    "print('X.matmul(w) = ', Xw)\n",
    "\n",
    "print('\\nNow compare to result with a re-shaped w')\n",
    "w = w.view(-1,1)\n",
    "print('w = ', w)\n",
    "\n",
    "Xw = X.matmul(w)\n",
    "print('X.matmul(w) = ', Xw)\n"
   ]
  },
  {
   "cell_type": "markdown",
   "metadata": {},
   "source": [
    "You can also broadcast operations with differently shaped tensors, and PyTorch will apply the operation across the tensor."
   ]
  },
  {
   "cell_type": "code",
   "execution_count": 11,
   "metadata": {},
   "outputs": [
    {
     "name": "stdout",
     "output_type": "stream",
     "text": [
      "t = \t tensor([[4, 5, 6],\n",
      "        [7, 8, 9]])\n",
      "t + torch.tensor([1,2,3]) = \t tensor([[ 5,  7,  9],\n",
      "        [ 8, 10, 12]])\n"
     ]
    }
   ],
   "source": [
    "t = torch.tensor([[4,5,6], [7,8,9]])\n",
    "print('t = \\t', t)\n",
    "print('t + torch.tensor([1,2,3]) = \\t', t + torch.tensor([1,2,3]))"
   ]
  },
  {
   "cell_type": "markdown",
   "metadata": {},
   "source": [
    "### Fully Connected Layer\n",
    "\n",
    "Let's look at an example of a fully connected layer in a neural net to get a feel for PyTorch operations."
   ]
  },
  {
   "cell_type": "code",
   "execution_count": 12,
   "metadata": {},
   "outputs": [
    {
     "name": "stdout",
     "output_type": "stream",
     "text": [
      "tensor([[ 0.,  1.,  2.,  3.,  4.],\n",
      "        [ 5.,  6.,  7.,  8.,  9.],\n",
      "        [10., 11., 12., 13., 14.],\n",
      "        [15., 16., 17., 18., 19.],\n",
      "        [20., 21., 22., 23., 24.],\n",
      "        [25., 26., 27., 28., 29.],\n",
      "        [30., 31., 32., 33., 34.],\n",
      "        [35., 36., 37., 38., 39.],\n",
      "        [40., 41., 42., 43., 44.],\n",
      "        [45., 46., 47., 48., 49.]])\n"
     ]
    }
   ],
   "source": [
    "X = torch.arange(50, dtype=torch.float).view(10,5)\n",
    "#view is the same as reshape\n",
    "print(X)"
   ]
  },
  {
   "cell_type": "code",
   "execution_count": 13,
   "metadata": {},
   "outputs": [
    {
     "name": "stdout",
     "output_type": "stream",
     "text": [
      "Parameter containing:\n",
      "tensor([[-0.2900,  0.0791, -0.4219, -0.1232,  0.3283],\n",
      "        [-0.1227,  0.2146, -0.1315, -0.3669,  0.3629],\n",
      "        [-0.1942,  0.0062,  0.4028,  0.4304, -0.3514]], requires_grad=True)\n"
     ]
    }
   ],
   "source": [
    "fc_layer = torch.nn.Linear(in_features=5, out_features=3) \n",
    "#out_features will be the number of in_features of the next layer\n",
    "print(fc_layer.weight)"
   ]
  },
  {
   "cell_type": "code",
   "execution_count": 14,
   "metadata": {},
   "outputs": [
    {
     "name": "stdout",
     "output_type": "stream",
     "text": [
      "Parameter containing:\n",
      "tensor([ 0.2354,  0.2142, -0.1293], requires_grad=True)\n"
     ]
    }
   ],
   "source": [
    "#The bias vector b from the equation Xw + b = z\n",
    "print(fc_layer.bias)"
   ]
  },
  {
   "cell_type": "code",
   "execution_count": 15,
   "metadata": {},
   "outputs": [
    {
     "name": "stdout",
     "output_type": "stream",
     "text": [
      "X dim: torch.Size([10, 5])\n",
      "W dim: torch.Size([3, 5])\n",
      "b dim: torch.Size([3])\n",
      "A: tensor([[  0.4143,   0.5168,   0.5683],\n",
      "        [ -1.7246,   0.2990,   2.0376],\n",
      "        [ -3.8635,   0.0812,   3.5068],\n",
      "        [ -6.0024,  -0.1365,   4.9760],\n",
      "        [ -8.1414,  -0.3543,   6.4453],\n",
      "        [-10.2803,  -0.5721,   7.9145],\n",
      "        [-12.4192,  -0.7898,   9.3838],\n",
      "        [-14.5581,  -1.0076,  10.8530],\n",
      "        [-16.6971,  -1.2254,  12.3222],\n",
      "        [-18.8360,  -1.4432,  13.7915]], grad_fn=<AddmmBackward>)\n",
      "A dim: torch.Size([10, 3])\n"
     ]
    }
   ],
   "source": [
    "print('X dim:', X.size())\n",
    "print('W dim:', fc_layer.weight.size())\n",
    "print('b dim:', fc_layer.bias.size())\n",
    "A = fc_layer(X)\n",
    "print('A:', A)\n",
    "print('A dim:', A.size())"
   ]
  },
  {
   "cell_type": "code",
   "execution_count": null,
   "metadata": {},
   "outputs": [],
   "source": []
  }
 ],
 "metadata": {
  "kernelspec": {
   "display_name": "Python 3",
   "language": "python",
   "name": "python3"
  },
  "language_info": {
   "codemirror_mode": {
    "name": "ipython",
    "version": 3
   },
   "file_extension": ".py",
   "mimetype": "text/x-python",
   "name": "python",
   "nbconvert_exporter": "python",
   "pygments_lexer": "ipython3",
   "version": "3.6.1"
  }
 },
 "nbformat": 4,
 "nbformat_minor": 2
}
