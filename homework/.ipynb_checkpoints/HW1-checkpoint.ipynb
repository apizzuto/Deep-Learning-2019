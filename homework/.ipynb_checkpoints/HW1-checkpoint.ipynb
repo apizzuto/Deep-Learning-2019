{
 "cells": [
  {
   "cell_type": "markdown",
   "metadata": {},
   "source": [
    "STAT 479: Deep Learning (Spring 2019)  \n",
    "Instructor: Sebastian Raschka (sraschka@wisc.edu)  \n",
    "Course website: http://pages.stat.wisc.edu/~sraschka/teaching/stat479-ss2019/  \n",
    "GitHub repository: https://github.com/rasbt/stat479-deep-learning-ss19"
   ]
  },
  {
   "cell_type": "code",
   "execution_count": 2,
   "metadata": {},
   "outputs": [
    {
     "name": "stdout",
     "output_type": "stream",
     "text": [
      "The watermark extension is already loaded. To reload it, use:\n",
      "  %reload_ext watermark\n",
      "Scott Lucchini, Rob Morgan, and Alex Pizzuto \n",
      "\n",
      "CPython 3.6.1\n",
      "IPython 6.4.0\n",
      "\n",
      "matplotlib 2.2.2\n"
     ]
    }
   ],
   "source": [
    "%load_ext watermark\n",
    "%watermark -a 'Scott Lucchini, Rob Morgan, and Alex Pizzuto' -v -p matplotlib"
   ]
  },
  {
   "cell_type": "markdown",
   "metadata": {},
   "source": [
    "# HW 1: Implementing the Perceptron Algorithm in Python (40 pts)"
   ]
  },
  {
   "cell_type": "markdown",
   "metadata": {},
   "source": [
    "In this homework assignment, you are asked to implement the classic Perceptron by Frank Rosenblatt for binary classification (here: 0/1 class labels) as discussed in the lecture. \n",
    "\n",
    "In particular, you should only use \"basic\" or \"vanilla\" Python functions for this implementation. Hence, no `import`s besides matplotlib will be permitted for this homework.\n",
    "\n",
    "The goal of this exercise is to familiarize yourself with NumPy implementation that we discussed in class. Hence, you may wish to explore the NumPy code from the lecture further when you implement the Perceptron in \"pure\" Python. Note that you are also asked to use the overal structure of the `Perceptron` Python `class`. While it may seem strange to you at first, it will be useful later when will discuss PyTorch for deep learning. The way PyTorch works is similar to this class (i.e., using a model `class` with `forward` and `backward` methods). "
   ]
  },
  {
   "cell_type": "markdown",
   "metadata": {},
   "source": [
    "### Important!"
   ]
  },
  {
   "cell_type": "markdown",
   "metadata": {},
   "source": [
    "**The homework assignment is due on Thu, Feb 7, 2019 and should be submitted via Canvas.**\n",
    "\n",
    "- Please submit the `.ipynb` file with your solution as well as an HTML version (use `File -> export as -> HTML`) as a backup in case we cannot open your .ipynb on our computer.\n",
    "\n",
    "- I recommend using the conda package manager for installing Python 3.7 and Jupyter Notebook (or Jupyter Lab). You may find the lecture notes from my previous machine learning class (https://github.com/rasbt/stat479-machine-learning-fs18/blob/master/03_python/03_python_notes.pdf, Section 3) helpful. \n",
    "\n",
    "- Also consider this YouTube tutorial for a more visual setup guide for conda: https://www.youtube.com/watch?v=YJC6ldI3hWk (Python Tutorial: Anaconda - Installation and Using Conda). Please reach out to me or the TA if you need any help of have questions.\n"
   ]
  },
  {
   "cell_type": "markdown",
   "metadata": {},
   "source": [
    "## 0) Imports"
   ]
  },
  {
   "cell_type": "markdown",
   "metadata": {},
   "source": [
    "**No modification required.** You should execute this code and are encouraged to explore it further, but it is recommended to  not make any alterations here."
   ]
  },
  {
   "cell_type": "code",
   "execution_count": 3,
   "metadata": {},
   "outputs": [],
   "source": [
    "import matplotlib.pyplot as plt\n",
    "%matplotlib inline"
   ]
  },
  {
   "cell_type": "markdown",
   "metadata": {},
   "source": [
    "## 1) Loading the dataset"
   ]
  },
  {
   "cell_type": "markdown",
   "metadata": {},
   "source": [
    "**No modification required.** You should execute this code and are encouraged to explore it further, but it is recommended to  not make any alterations here."
   ]
  },
  {
   "cell_type": "code",
   "execution_count": 40,
   "metadata": {},
   "outputs": [
    {
     "name": "stdout",
     "output_type": "stream",
     "text": [
      "100 100\n"
     ]
    }
   ],
   "source": [
    "X, y = [], []\n",
    "\n",
    "with open('./HW1_dataset.csv', 'r') as f:\n",
    "    next(f)\n",
    "    for line in f:\n",
    "        line = line.strip()\n",
    "        if line:\n",
    "            values = line.split(',')\n",
    "        else:\n",
    "            continue\n",
    "        X.append([float(i) for i in values[:4]])\n",
    "        y.append(int(values[-1]))\n",
    "        \n",
    "print(len(X), len(y))"
   ]
  },
  {
   "cell_type": "code",
   "execution_count": 41,
   "metadata": {},
   "outputs": [],
   "source": [
    "import random\n",
    "\n",
    "random.seed(123)\n",
    "\n",
    "idx = list(range(len(X)))\n",
    "random.shuffle(idx)\n",
    "\n",
    "X_train = [X[i] for i in idx[:80]]\n",
    "y_train = [y[i] for i in idx[:80]]\n",
    "X_test = [X[i] for i in idx[80:]]\n",
    "y_test = [y[i] for i in idx[80:]]"
   ]
  },
  {
   "cell_type": "code",
   "execution_count": 42,
   "metadata": {},
   "outputs": [
    {
     "data": {
      "image/png": "[encoded data removed]",
      "text/plain": [
       "<Figure size 432x288 with 1 Axes>"
      ]
     },
     "metadata": {},
     "output_type": "display_data"
    }
   ],
   "source": [
    "plt.scatter([i[0] for idx, i in enumerate(X_train) if y_train[idx] == 0], \n",
    "            [i[1] for idx, i in enumerate(X_train) if y_train[idx] == 0],\n",
    "            label='class 0', marker='o')\n",
    "\n",
    "plt.scatter([i[0] for idx, i in enumerate(X_train) if y_train[idx] == 1], \n",
    "            [i[1] for idx, i in enumerate(X_train) if y_train[idx] == 1],\n",
    "            label='class 1', marker='s')\n",
    "\n",
    "plt.title('Training set')\n",
    "plt.xlabel('feature 1')\n",
    "plt.ylabel('feature 2')\n",
    "plt.xlim([0.0, 7])\n",
    "plt.ylim([-0.8, 0.8])\n",
    "plt.legend()\n",
    "plt.show()"
   ]
  },
  {
   "cell_type": "markdown",
   "metadata": {},
   "source": [
    "## Defining the Perceptron model"
   ]
  },
  {
   "cell_type": "markdown",
   "metadata": {},
   "source": [
    "Below, you need to complete the code of the Perceptron model class based on the framework I provided."
   ]
  },
  {
   "cell_type": "code",
   "execution_count": 63,
   "metadata": {},
   "outputs": [],
   "source": [
    "def dot(a, b):\n",
    "    try:\n",
    "        dotsum = 0\n",
    "        for i, j in zip(a,b):\n",
    "            dotsum += i*j\n",
    "        return dotsum\n",
    "    except:\n",
    "        return 0    # return 0 if incompatible datatypes. \n",
    "                    # Would be nice to raise error for mismatched dimensionality\n",
    "\n",
    "class Perceptron():\n",
    "    def __init__(self, num_features):\n",
    "        self.num_features = num_features\n",
    "        self.weights = [0.] * num_features\n",
    "        self.bias = [0.]\n",
    "\n",
    "    def forward(self, x):\n",
    "        linears = []\n",
    "        for j in range(len(x)):\n",
    "            linear = dot(x[j], self.weights) + self.bias[-1]\n",
    "            linears.append(linear)\n",
    "        predictions = []\n",
    "        for j in linears:\n",
    "            if j > 0:\n",
    "                predictions.append(1.)\n",
    "            else:\n",
    "                predictions.append(0.)\n",
    "        return predictions\n",
    "        \n",
    "    def backward(self, x, y):  \n",
    "        predictions = self.forward(x)\n",
    "        errors = []\n",
    "        for j,k in zip(y, predictions):\n",
    "            errors.append(j - k)\n",
    "        return errors\n",
    "\n",
    "    #I haven't fixed train yet\n",
    "    def train(self, x, y, epochs):\n",
    "        for e in range(epochs):\n",
    "            for i in range(len(y)):\n",
    "                errors = self.backward(x, y)\n",
    "                self.weights += (errors * x[i])\n",
    "                self.bias += errors\n",
    "                \n",
    "    def evaluate(self, x, y):\n",
    "        predictions = self.forward(x)\n",
    "        accuracy = 0\n",
    "        for i, j in zip(predictions, y):\n",
    "            if i == j:\n",
    "                accuracy += 1\n",
    "        accuracy = accuracy / float(len(y))\n",
    "        return accuracy\n",
    "    "
   ]
  },
  {
   "cell_type": "markdown",
   "metadata": {},
   "source": [
    "## Training the Perceptron"
   ]
  },
  {
   "cell_type": "markdown",
   "metadata": {},
   "source": [
    "Here, you are asked to train the perceptron for 5 epochs and print out the Perceptron weight parameters and the value of the bias unit after training.\n",
    "\n",
    "- The code should be relatively similar to the code you've seen in the lecture."
   ]
  },
  {
   "cell_type": "markdown",
   "metadata": {},
   "source": [
    "## Evaluating the model"
   ]
  },
  {
   "cell_type": "markdown",
   "metadata": {},
   "source": [
    "Compute the prediction accuracy (in percent) for both the training set and the test set."
   ]
  },
  {
   "cell_type": "code",
   "execution_count": null,
   "metadata": {},
   "outputs": [],
   "source": [
    "# <your code>\n",
    "print('Train set accuracy: %.2f%%' % (train_acc*100))"
   ]
  },
  {
   "cell_type": "code",
   "execution_count": null,
   "metadata": {},
   "outputs": [],
   "source": [
    "# <your code>\n",
    "print('Test set accuracy: %.2f%%' % (test_acc*100))"
   ]
  },
  {
   "cell_type": "markdown",
   "metadata": {},
   "source": [
    "## Decision Boundary"
   ]
  },
  {
   "cell_type": "markdown",
   "metadata": {},
   "source": [
    "Make 2 scatterplots: 1 for the training dataset and 1 for the test dataset. Draw the respective decision boundaries of the perceptron in each plot (similar to the code example you have seen in the lecture)."
   ]
  },
  {
   "cell_type": "code",
   "execution_count": null,
   "metadata": {},
   "outputs": [],
   "source": [
    "##########################\n",
    "### 2D Decision Boundary\n",
    "##########################\n",
    "\n",
    "# <your code>"
   ]
  },
  {
   "cell_type": "code",
   "execution_count": 47,
   "metadata": {},
   "outputs": [
    {
     "data": {
      "text/plain": [
       "array([[1.6],\n",
       "       [1.6],\n",
       "       [1.5],\n",
       "       [1.7],\n",
       "       [1.6],\n",
       "       [2.1],\n",
       "       [1.7],\n",
       "       [1.7],\n",
       "       [1.6],\n",
       "       [1.6],\n",
       "       [1.7],\n",
       "       [1.8],\n",
       "       [1.5],\n",
       "       [1.2],\n",
       "       [1.4],\n",
       "       [1.9],\n",
       "       [1.7],\n",
       "       [1.7],\n",
       "       [2. ],\n",
       "       [1.8],\n",
       "       [1.9],\n",
       "       [1.9],\n",
       "       [1.2],\n",
       "       [2.2],\n",
       "       [2.1],\n",
       "       [1.8],\n",
       "       [2. ],\n",
       "       [1.7],\n",
       "       [1.6],\n",
       "       [1.8],\n",
       "       [1.8],\n",
       "       [1.9],\n",
       "       [1.6],\n",
       "       [1.6],\n",
       "       [1.6],\n",
       "       [1.4],\n",
       "       [1.5],\n",
       "       [1.6],\n",
       "       [1.5],\n",
       "       [1.7],\n",
       "       [1.6],\n",
       "       [1.6],\n",
       "       [1.5],\n",
       "       [2.2],\n",
       "       [2.3],\n",
       "       [1.7],\n",
       "       [1.8],\n",
       "       [1.6],\n",
       "       [1.7],\n",
       "       [1.6],\n",
       "       [5.5],\n",
       "       [4. ],\n",
       "       [5. ],\n",
       "       [4.4],\n",
       "       [5. ],\n",
       "       [5.7],\n",
       "       [3.2],\n",
       "       [5.1],\n",
       "       [4.6],\n",
       "       [5.6],\n",
       "       [4.1],\n",
       "       [4.2],\n",
       "       [4.6],\n",
       "       [4. ],\n",
       "       [4.5],\n",
       "       [4.6],\n",
       "       [4.3],\n",
       "       [5.9],\n",
       "       [6.2],\n",
       "       [3.5],\n",
       "       [5. ],\n",
       "       [3.9],\n",
       "       [5.7],\n",
       "       [3.7],\n",
       "       [4.8],\n",
       "       [4.8],\n",
       "       [3.6],\n",
       "       [3.7],\n",
       "       [4.7],\n",
       "       [4.4],\n",
       "       [5. ],\n",
       "       [5.4],\n",
       "       [4.8],\n",
       "       [3.6],\n",
       "       [4. ],\n",
       "       [5.4],\n",
       "       [5. ],\n",
       "       [4.3],\n",
       "       [3.6],\n",
       "       [4.5],\n",
       "       [5. ],\n",
       "       [4.4],\n",
       "       [4. ],\n",
       "       [5.2],\n",
       "       [5.2],\n",
       "       [4.5],\n",
       "       [3.9],\n",
       "       [4.2],\n",
       "       [4.7],\n",
       "       [3.9]])"
      ]
     },
     "execution_count": 47,
     "metadata": {},
     "output_type": "execute_result"
    }
   ],
   "source": [
    "x = np.array(X)\n",
    "weights = np.zeros((3, 1), dtype=np.float)\n",
    "np.dot(x, weights)"
   ]
  },
  {
   "cell_type": "code",
   "execution_count": 45,
   "metadata": {},
   "outputs": [
    {
     "data": {
      "text/plain": [
       "array([[ 1.4,  0.2,  0. ],\n",
       "       [ 1.4,  0.2,  0. ],\n",
       "       [ 1.3,  0.2,  0. ],\n",
       "       [ 1.5,  0.2,  0. ],\n",
       "       [ 1.4,  0.2,  0. ],\n",
       "       [ 1.7,  0.4,  0. ],\n",
       "       [ 1.4,  0.3,  0. ],\n",
       "       [ 1.5,  0.2,  0. ],\n",
       "       [ 1.4,  0.2,  0. ],\n",
       "       [ 1.5,  0.1,  0. ],\n",
       "       [ 1.5,  0.2,  0. ],\n",
       "       [ 1.6,  0.2,  0. ],\n",
       "       [ 1.4,  0.1,  0. ],\n",
       "       [ 1.1,  0.1,  0. ],\n",
       "       [ 1.2,  0.2,  0. ],\n",
       "       [ 1.5,  0.4,  0. ],\n",
       "       [ 1.3,  0.4,  0. ],\n",
       "       [ 1.4,  0.3,  0. ],\n",
       "       [ 1.7,  0.3,  0. ],\n",
       "       [ 1.5,  0.3,  0. ],\n",
       "       [ 1.7,  0.2,  0. ],\n",
       "       [ 1.5,  0.4,  0. ],\n",
       "       [ 1. ,  0.2,  0. ],\n",
       "       [ 1.7,  0.5,  0. ],\n",
       "       [ 1.9,  0.2,  0. ],\n",
       "       [ 1.6,  0.2,  0. ],\n",
       "       [ 1.6,  0.4,  0. ],\n",
       "       [ 1.5,  0.2,  0. ],\n",
       "       [ 1.4,  0.2,  0. ],\n",
       "       [ 1.6,  0.2,  0. ],\n",
       "       [ 1.6,  0.2,  0. ],\n",
       "       [ 1.5,  0.4,  0. ],\n",
       "       [ 1.5,  0.1,  0. ],\n",
       "       [ 1.4,  0.2,  0. ],\n",
       "       [ 1.5,  0.1,  0. ],\n",
       "       [ 1.2,  0.2,  0. ],\n",
       "       [ 1.3,  0.2,  0. ],\n",
       "       [ 1.5,  0.1,  0. ],\n",
       "       [ 1.3,  0.2,  0. ],\n",
       "       [ 1.5,  0.2,  0. ],\n",
       "       [ 1.3,  0.3,  0. ],\n",
       "       [ 1.3,  0.3,  0. ],\n",
       "       [ 1.3,  0.2,  0. ],\n",
       "       [ 1.6,  0.6,  0. ],\n",
       "       [ 1.9,  0.4,  0. ],\n",
       "       [ 1.4,  0.3,  0. ],\n",
       "       [ 1.6,  0.2,  0. ],\n",
       "       [ 1.4,  0.2,  0. ],\n",
       "       [ 1.5,  0.2,  0. ],\n",
       "       [ 1.4,  0.2,  0. ],\n",
       "       [ 4. ,  0.5,  1. ],\n",
       "       [ 3.1, -0.1,  1. ],\n",
       "       [ 3.9,  0.1,  1. ],\n",
       "       [ 3.6, -0.2,  1. ],\n",
       "       [ 3.8,  0.2,  1. ],\n",
       "       [ 4.6,  0.1,  1. ],\n",
       "       [ 2.5, -0.3,  1. ],\n",
       "       [ 4.3, -0.2,  1. ],\n",
       "       [ 3.8, -0.2,  1. ],\n",
       "       [ 4.1,  0.5,  1. ],\n",
       "       [ 3.1,  0. ,  1. ],\n",
       "       [ 3.3, -0.1,  1. ],\n",
       "       [ 3.5,  0.1,  1. ],\n",
       "       [ 3. ,  0. ,  1. ],\n",
       "       [ 3.1,  0.4,  1. ],\n",
       "       [ 3.3,  0.3,  1. ],\n",
       "       [ 3.5, -0.2,  1. ],\n",
       "       [ 4.7,  0.2,  1. ],\n",
       "       [ 4.9,  0.3,  1. ],\n",
       "       [ 3. , -0.5,  1. ],\n",
       "       [ 3.7,  0.3,  1. ],\n",
       "       [ 2.9,  0. ,  1. ],\n",
       "       [ 4.7,  0. ,  1. ],\n",
       "       [ 2.9, -0.2,  1. ],\n",
       "       [ 3.7,  0.1,  1. ],\n",
       "       [ 4. , -0.2,  1. ],\n",
       "       [ 2.8, -0.2,  1. ],\n",
       "       [ 2.9, -0.2,  1. ],\n",
       "       [ 3.6,  0.1,  1. ],\n",
       "       [ 3.8, -0.4,  1. ],\n",
       "       [ 4.1, -0.1,  1. ],\n",
       "       [ 4.4,  0. ,  1. ],\n",
       "       [ 3.6,  0.2,  1. ],\n",
       "       [ 3.1, -0.5,  1. ],\n",
       "       [ 3.6, -0.6,  1. ],\n",
       "       [ 4.1,  0.3,  1. ],\n",
       "       [ 3.6,  0.4,  1. ],\n",
       "       [ 3.5, -0.2,  1. ],\n",
       "       [ 2.8, -0.2,  1. ],\n",
       "       [ 3.4,  0.1,  1. ],\n",
       "       [ 3.6,  0.4,  1. ],\n",
       "       [ 3.1,  0.3,  1. ],\n",
       "       [ 3.1, -0.1,  1. ],\n",
       "       [ 3.9,  0.3,  1. ],\n",
       "       [ 3.7,  0.5,  1. ],\n",
       "       [ 3.2,  0.3,  1. ],\n",
       "       [ 3. , -0.1,  1. ],\n",
       "       [ 3.2,  0. ,  1. ],\n",
       "       [ 3.4,  0.3,  1. ],\n",
       "       [ 3.1, -0.2,  1. ]])"
      ]
     },
     "execution_count": 45,
     "metadata": {},
     "output_type": "execute_result"
    }
   ],
   "source": [
    "x"
   ]
  },
  {
   "cell_type": "code",
   "execution_count": 46,
   "metadata": {},
   "outputs": [
    {
     "data": {
      "text/plain": [
       "array([[0.],\n",
       "       [0.],\n",
       "       [0.]])"
      ]
     },
     "execution_count": 46,
     "metadata": {},
     "output_type": "execute_result"
    }
   ],
   "source": [
    "weights"
   ]
  },
  {
   "cell_type": "code",
   "execution_count": null,
   "metadata": {},
   "outputs": [],
   "source": []
  }
 ],
 "metadata": {
  "kernelspec": {
   "display_name": "Python 3",
   "language": "python",
   "name": "python3"
  },
  "language_info": {
   "codemirror_mode": {
    "name": "ipython",
    "version": 3
   },
   "file_extension": ".py",
   "mimetype": "text/x-python",
   "name": "python",
   "nbconvert_exporter": "python",
   "pygments_lexer": "ipython3",
   "version": "3.6.1"
  },
  "toc": {
   "nav_menu": {},
   "number_sections": true,
   "sideBar": true,
   "skip_h1_title": false,
   "title_cell": "Table of Contents",
   "title_sidebar": "Contents",
   "toc_cell": false,
   "toc_position": {},
   "toc_section_display": true,
   "toc_window_display": false
  }
 },
 "nbformat": 4,
 "nbformat_minor": 2
}
