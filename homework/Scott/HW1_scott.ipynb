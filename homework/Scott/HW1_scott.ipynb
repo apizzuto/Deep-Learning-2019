{
 "cells": [
  {
   "cell_type": "markdown",
   "metadata": {},
   "source": [
    "STAT 479: Deep Learning (Spring 2019)  \n",
    "Instructor: Sebastian Raschka (sraschka@wisc.edu)  \n",
    "Course website: http://pages.stat.wisc.edu/~sraschka/teaching/stat479-ss2019/  \n",
    "GitHub repository: https://github.com/rasbt/stat479-deep-learning-ss19"
   ]
  },
  {
   "cell_type": "markdown",
   "metadata": {},
   "source": [
    "# HW 1: Implementing the Perceptron Algorithm in Python (40 pts)"
   ]
  },
  {
   "cell_type": "markdown",
   "metadata": {},
   "source": [
    "In this homework assignment, you are asked to implement the classic Perceptron by Frank Rosenblatt for binary classification (here: 0/1 class labels) as discussed in the lecture. \n",
    "\n",
    "In particular, you should only use \"basic\" or \"vanilla\" Python functions for this implementation. Hence, no `import`s besides matplotlib will be permitted for this homework.\n",
    "\n",
    "The goal of this exercise is to familiarize yourself with NumPy implementation that we discussed in class. Hence, you may wish to explore the NumPy code from the lecture further when you implement the Perceptron in \"pure\" Python. Note that you are also asked to use the overal structure of the `Perceptron` Python `class`. While it may seem strange to you at first, it will be useful later when will discuss PyTorch for deep learning. The way PyTorch works is similar to this class (i.e., using a model `class` with `forward` and `backward` methods). "
   ]
  },
  {
   "cell_type": "markdown",
   "metadata": {},
   "source": [
    "### Important!"
   ]
  },
  {
   "cell_type": "markdown",
   "metadata": {},
   "source": [
    "**The homework assignment is due on Thu, Feb 7, 2019 and should be submitted via Canvas.**\n",
    "\n",
    "- Please submit the `.ipynb` file with your solution as well as an HTML version (use `File -> export as -> HTML`) as a backup in case we cannot open your .ipynb on our computer.\n",
    "\n",
    "- I recommend using the conda package manager for installing Python 3.7 and Jupyter Notebook (or Jupyter Lab). You may find the lecture notes from my previous machine learning class (https://github.com/rasbt/stat479-machine-learning-fs18/blob/master/03_python/03_python_notes.pdf, Section 3) helpful. \n",
    "\n",
    "- Also consider this YouTube tutorial for a more visual setup guide for conda: https://www.youtube.com/watch?v=YJC6ldI3hWk (Python Tutorial: Anaconda - Installation and Using Conda). Please reach out to me or the TA if you need any help of have questions.\n"
   ]
  },
  {
   "cell_type": "markdown",
   "metadata": {},
   "source": [
    "## 0) Imports"
   ]
  },
  {
   "cell_type": "markdown",
   "metadata": {},
   "source": [
    "**No modification required.** You should execute this code and are encouraged to explore it further, but it is recommended to  not make any alterations here."
   ]
  },
  {
   "cell_type": "code",
   "execution_count": 56,
   "metadata": {},
   "outputs": [],
   "source": [
    "import matplotlib.pyplot as plt\n",
    "%matplotlib inline"
   ]
  },
  {
   "cell_type": "markdown",
   "metadata": {},
   "source": [
    "## 1) Loading the dataset"
   ]
  },
  {
   "cell_type": "markdown",
   "metadata": {},
   "source": [
    "**No modification required.** You should execute this code and are encouraged to explore it further, but it is recommended to  not make any alterations here."
   ]
  },
  {
   "cell_type": "code",
   "execution_count": 57,
   "metadata": {},
   "outputs": [
    {
     "name": "stdout",
     "output_type": "stream",
     "text": [
      "100 100\n"
     ]
    }
   ],
   "source": [
    "X, y = [], []\n",
    "\n",
    "with open('./HW1_dataset.csv', 'r') as f:\n",
    "    next(f)\n",
    "    for line in f:\n",
    "        line = line.strip()\n",
    "        if line:\n",
    "            values = line.split(',')\n",
    "        else:\n",
    "            continue\n",
    "        X.append([float(i) for i in values[:4]])\n",
    "        y.append(int(values[-1]))\n",
    "        \n",
    "print(len(X), len(y))"
   ]
  },
  {
   "cell_type": "code",
   "execution_count": 58,
   "metadata": {},
   "outputs": [],
   "source": [
    "import random\n",
    "\n",
    "\n",
    "random.seed(12345)\n",
    "\n",
    "idx = list(range(len(X)))\n",
    "random.shuffle(idx)\n",
    "\n",
    "X_train = [X[i] for i in idx[:80]]\n",
    "y_train = [y[i] for i in idx[:80]]\n",
    "X_test = [X[i] for i in idx[80:]]\n",
    "y_test = [y[i] for i in idx[80:]]"
   ]
  },
  {
   "cell_type": "code",
   "execution_count": 59,
   "metadata": {},
   "outputs": [
    {
     "data": {
      "image/png": "[encoded data removed]",
      "text/plain": [
       "<matplotlib.figure.Figure at 0x112a8e400>"
      ]
     },
     "metadata": {
      "needs_background": "light"
     },
     "output_type": "display_data"
    }
   ],
   "source": [
    "plt.scatter([i[0] for idx, i in enumerate(X_train) if y_train[idx] == 0], \n",
    "            [i[1] for idx, i in enumerate(X_train) if y_train[idx] == 0],\n",
    "            label='class 0', marker='o')\n",
    "\n",
    "plt.scatter([i[0] for idx, i in enumerate(X_train) if y_train[idx] == 1], \n",
    "            [i[1] for idx, i in enumerate(X_train) if y_train[idx] == 1],\n",
    "            label='class 1', marker='s')\n",
    "\n",
    "plt.title('Training set')\n",
    "plt.xlabel('feature 1')\n",
    "plt.ylabel('feature 2')\n",
    "plt.xlim([0.0, 7])\n",
    "plt.ylim([-0.8, 0.8])\n",
    "plt.legend()\n",
    "plt.show()"
   ]
  },
  {
   "cell_type": "markdown",
   "metadata": {},
   "source": [
    "## Defining the Perceptron model"
   ]
  },
  {
   "cell_type": "markdown",
   "metadata": {},
   "source": [
    "Below, you need to complete the code of the Perceptron model class based on the framework I provided."
   ]
  },
  {
   "cell_type": "code",
   "execution_count": 60,
   "metadata": {},
   "outputs": [],
   "source": [
    "def dot(a,b):\n",
    "    result = 0\n",
    "    if (len(a) != len(b)):\n",
    "        return 0\n",
    "    for i in range(len(a)):\n",
    "        result += a[i]*b[i]\n",
    "    return result\n",
    "\n",
    "class Perceptron():\n",
    "    def __init__(self, num_features):\n",
    "        self.num_features = num_features\n",
    "        self.weights = [0.]*num_features\n",
    "        self.bias = 1.\n",
    "\n",
    "    def forward(self, x):\n",
    "        linear = dot(x,self.weights) + self.bias\n",
    "        if (linear > 0.):\n",
    "            return 1\n",
    "        else:\n",
    "            return 0\n",
    "        \n",
    "    def backward(self, x, y):  \n",
    "        predictions = self.forward(x)\n",
    "        errors = y - predictions\n",
    "        return errors\n",
    "        \n",
    "    def train(self, x, y, epochs):\n",
    "        for e in range(epochs):\n",
    "            \n",
    "            for i in range(len(y)):\n",
    "                errors = self.backward(x[i][:self.num_features], y[i])\n",
    "                for j in range(self.num_features):\n",
    "                    self.weights[j] += x[i][j]*errors\n",
    "                self.bias += errors\n",
    "                \n",
    "    def evaluate(self, x, y):\n",
    "        accuracy = 0.\n",
    "        for i in range(len(y)):\n",
    "            pred = self.forward(x[i][:self.num_features])\n",
    "            if (pred == y[i]):\n",
    "                accuracy += 1\n",
    "        accuracy = accuracy / len(y)\n",
    "        return accuracy"
   ]
  },
  {
   "cell_type": "markdown",
   "metadata": {},
   "source": [
    "## Training the Perceptron"
   ]
  },
  {
   "cell_type": "markdown",
   "metadata": {},
   "source": [
    "Here, you are asked to train the perceptron for 5 epochs and print out the Perceptron weight parameters and the value of the bias unit after training.\n",
    "\n",
    "- The code should be relatively similar to the code you've seen in the lecture."
   ]
  },
  {
   "cell_type": "code",
   "execution_count": 61,
   "metadata": {},
   "outputs": [
    {
     "name": "stdout",
     "output_type": "stream",
     "text": [
      "Model parameters:\n",
      "\n",
      "\n",
      "  Weights: [0.9999999999999996, -1.4999999999999998]\n",
      "\n",
      "  Bias: -2.0\n",
      "\n"
     ]
    }
   ],
   "source": [
    "ppn = Perceptron(num_features=2)\n",
    "\n",
    "ppn.train(X_train,y_train,epochs=5)\n",
    "\n",
    "print('Model parameters:\\n\\n')\n",
    "print('  Weights: %s\\n' % ppn.weights)\n",
    "print('  Bias: %s\\n' % ppn.bias)"
   ]
  },
  {
   "cell_type": "markdown",
   "metadata": {},
   "source": [
    "## Evaluating the model"
   ]
  },
  {
   "cell_type": "markdown",
   "metadata": {},
   "source": [
    "Compute the prediction accuracy (in percent) for both the training set and the test set."
   ]
  },
  {
   "cell_type": "code",
   "execution_count": 62,
   "metadata": {},
   "outputs": [
    {
     "name": "stdout",
     "output_type": "stream",
     "text": [
      "Train set accuracy: 100.00%\n"
     ]
    }
   ],
   "source": [
    "train_acc = ppn.evaluate(X_test,y_test)\n",
    "print('Train set accuracy: %.2f%%' % (train_acc*100))"
   ]
  },
  {
   "cell_type": "code",
   "execution_count": 63,
   "metadata": {},
   "outputs": [
    {
     "name": "stdout",
     "output_type": "stream",
     "text": [
      "Test set accuracy: 100.00%\n"
     ]
    }
   ],
   "source": [
    "test_acc = ppn.evaluate(X_test,y_test)\n",
    "print('Test set accuracy: %.2f%%' % (test_acc*100))"
   ]
  },
  {
   "cell_type": "markdown",
   "metadata": {},
   "source": [
    "## Decision Boundary"
   ]
  },
  {
   "cell_type": "markdown",
   "metadata": {},
   "source": [
    "Make 2 scatterplots: 1 for the training dataset and 1 for the test dataset. Draw the respective decision boundaries of the perceptron in each plot (similar to the code example you have seen in the lecture)."
   ]
  },
  {
   "cell_type": "code",
   "execution_count": 64,
   "metadata": {},
   "outputs": [
    {
     "data": {
      "image/png": "[encoded data removed]",
      "text/plain": [
       "<matplotlib.figure.Figure at 0x112865ba8>"
      ]
     },
     "metadata": {
      "needs_background": "light"
     },
     "output_type": "display_data"
    }
   ],
   "source": [
    "##########################\n",
    "### 2D Decision Boundary\n",
    "##########################\n",
    "\n",
    "w, b = ppn.weights, ppn.bias\n",
    "\n",
    "x_min = 1\n",
    "y_min = ( (-(w[0] * x_min) - b) \n",
    "          / w[1] )\n",
    "\n",
    "x_max = 3\n",
    "y_max = ( (-(w[0] * x_max) - b) \n",
    "          / w[1] )\n",
    "\n",
    "\n",
    "fig, ax = plt.subplots(1, 2, sharex=True, figsize=(7, 3))\n",
    "\n",
    "ax[0].plot([x_min, x_max], [y_min, y_max])\n",
    "ax[1].plot([x_min, x_max], [y_min, y_max])\n",
    "\n",
    "Xtr_class0_x = []\n",
    "Xtr_class0_y = []\n",
    "Xtr_class1_x = []\n",
    "Xtr_class1_y = []\n",
    "for x in X_train:\n",
    "    if (x[-1] == 0):\n",
    "        Xtr_class0_x.append(x[0])\n",
    "        Xtr_class0_y.append(x[1])\n",
    "    elif (x[-1] == 1):\n",
    "        Xtr_class1_x.append(x[0])\n",
    "        Xtr_class1_y.append(x[1])\n",
    "\n",
    "Xte_class0_x = []\n",
    "Xte_class0_y = []\n",
    "Xte_class1_x = []\n",
    "Xte_class1_y = []\n",
    "for x in X_test:\n",
    "    if (x[-1] == 0):\n",
    "        Xte_class0_x.append(x[0])\n",
    "        Xte_class0_y.append(x[1])\n",
    "    elif (x[-1] == 1):\n",
    "        Xte_class1_x.append(x[0])\n",
    "        Xte_class1_y.append(x[1])\n",
    "\n",
    "\n",
    "ax[0].scatter(Xtr_class0_x, Xtr_class0_y, label='class 0', marker='o')\n",
    "ax[0].scatter(Xtr_class1_x, Xtr_class1_y, label='class 1', marker='s')\n",
    "\n",
    "ax[1].scatter(Xte_class0_x, Xte_class0_y, label='class 0', marker='o')\n",
    "ax[1].scatter(Xte_class1_x, Xte_class1_y, label='class 1', marker='s')\n",
    "\n",
    "ax[1].legend(loc='lower right')\n",
    "plt.show()"
   ]
  }
 ],
 "metadata": {
  "kernelspec": {
   "display_name": "Python 3",
   "language": "python",
   "name": "python3"
  },
  "language_info": {
   "codemirror_mode": {
    "name": "ipython",
    "version": 3
   },
   "file_extension": ".py",
   "mimetype": "text/x-python",
   "name": "python",
   "nbconvert_exporter": "python",
   "pygments_lexer": "ipython3",
   "version": "3.5.4"
  },
  "toc": {
   "nav_menu": {},
   "number_sections": true,
   "sideBar": true,
   "skip_h1_title": false,
   "title_cell": "Table of Contents",
   "title_sidebar": "Contents",
   "toc_cell": false,
   "toc_position": {},
   "toc_section_display": true,
   "toc_window_display": false
  }
 },
 "nbformat": 4,
 "nbformat_minor": 2
}
