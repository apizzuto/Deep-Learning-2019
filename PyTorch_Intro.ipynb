{
 "cells": [
  {
   "cell_type": "markdown",
   "metadata": {},
   "source": [
    "# Code Snippets to Accompany Linear_Algebra_for_DL.md"
   ]
  },
  {
   "cell_type": "code",
   "execution_count": 1,
   "metadata": {},
   "outputs": [],
   "source": [
    "import torch\n",
    "import numpy as np"
   ]
  },
  {
   "cell_type": "markdown",
   "metadata": {},
   "source": [
    "Main data structures in PyTorch are tensors"
   ]
  },
  {
   "cell_type": "code",
   "execution_count": 2,
   "metadata": {},
   "outputs": [
    {
     "name": "stdout",
     "output_type": "stream",
     "text": [
      "<class 'numpy.ndarray'> float64 (3,)\n",
      "<class 'torch.Tensor'> torch.float32 torch.Size([3])\n"
     ]
    }
   ],
   "source": [
    "a = np.array([1., 2., 3.])\n",
    "b = torch.tensor([1., 2., 3.])\n",
    "\n",
    "print(type(a), a.dtype, a.shape)\n",
    "print(type(b), b.dtype, b.shape)"
   ]
  },
  {
   "cell_type": "markdown",
   "metadata": {},
   "source": [
    "Multiplication (dot-product) has a similar structure between the two libraries"
   ]
  },
  {
   "cell_type": "code",
   "execution_count": 3,
   "metadata": {},
   "outputs": [
    {
     "name": "stdout",
     "output_type": "stream",
     "text": [
      "numpy 'dot'     --> 14.0\n",
      "torch 'matmul'  --> tensor(14.)\n"
     ]
    }
   ],
   "source": [
    "print(\"numpy 'dot'     -->\", a.dot(a))\n",
    "print(\"torch 'matmul'  -->\", b.matmul(b))"
   ]
  },
  {
   "cell_type": "markdown",
   "metadata": {},
   "source": [
    "There are methods in PyTorch for converting between the two data types"
   ]
  },
  {
   "cell_type": "code",
   "execution_count": 4,
   "metadata": {},
   "outputs": [
    {
     "name": "stdout",
     "output_type": "stream",
     "text": [
      "<class 'numpy.ndarray'> [1. 2. 3.]\n",
      "<class 'torch.Tensor'> tensor([1., 2., 3.], dtype=torch.float64)\n"
     ]
    }
   ],
   "source": [
    "print(type(b.numpy()), b.numpy())               #torch tensor to np array\n",
    "print(type(torch.tensor(a)), torch.tensor(a))   #np array to torch tensor"
   ]
  },
  {
   "cell_type": "markdown",
   "metadata": {},
   "source": [
    "PyTorch is picky about specifying data types. For example, the following cell returns an error because the two tensors have different data types of floats vs integers. "
   ]
  },
  {
   "cell_type": "code",
   "execution_count": 5,
   "metadata": {},
   "outputs": [
    {
     "ename": "RuntimeError",
     "evalue": "expected type torch.FloatTensor but got torch.LongTensor",
     "output_type": "error",
     "traceback": [
      "\u001b[0;31m---------------------------------------------------------------------------\u001b[0m",
      "\u001b[0;31mRuntimeError\u001b[0m                              Traceback (most recent call last)",
      "\u001b[0;32m<ipython-input-5-b04feb3ca8b4>\u001b[0m in \u001b[0;36m<module>\u001b[0;34m()\u001b[0m\n\u001b[1;32m      2\u001b[0m \u001b[0md\u001b[0m \u001b[0;34m=\u001b[0m \u001b[0mtorch\u001b[0m\u001b[0;34m.\u001b[0m\u001b[0mtensor\u001b[0m\u001b[0;34m(\u001b[0m\u001b[0;34m[\u001b[0m\u001b[0;36m1\u001b[0m\u001b[0;34m,\u001b[0m \u001b[0;36m2\u001b[0m\u001b[0;34m,\u001b[0m \u001b[0;36m3\u001b[0m\u001b[0;34m]\u001b[0m\u001b[0;34m)\u001b[0m\u001b[0;34m\u001b[0m\u001b[0;34m\u001b[0m\u001b[0m\n\u001b[1;32m      3\u001b[0m \u001b[0;34m\u001b[0m\u001b[0m\n\u001b[0;32m----> 4\u001b[0;31m \u001b[0mprint\u001b[0m\u001b[0;34m(\u001b[0m\u001b[0mc\u001b[0m \u001b[0;34m-\u001b[0m \u001b[0md\u001b[0m\u001b[0;34m)\u001b[0m\u001b[0;34m\u001b[0m\u001b[0;34m\u001b[0m\u001b[0m\n\u001b[0m",
      "\u001b[0;31mRuntimeError\u001b[0m: expected type torch.FloatTensor but got torch.LongTensor"
     ]
    }
   ],
   "source": [
    "c = torch.tensor([1., 2., 3.])\n",
    "d = torch.tensor([1, 2, 3])\n",
    "\n",
    "print(c - d)"
   ]
  },
  {
   "cell_type": "markdown",
   "metadata": {},
   "source": [
    "The error is fixed by specifying the data types..."
   ]
  },
  {
   "cell_type": "code",
   "execution_count": 6,
   "metadata": {},
   "outputs": [
    {
     "name": "stdout",
     "output_type": "stream",
     "text": [
      "tensor([0., 0., 0.])\n"
     ]
    }
   ],
   "source": [
    "c = torch.tensor([1., 2., 3.], dtype=torch.float)\n",
    "d = torch.tensor([1, 2, 3], dtype=torch.float)\n",
    "\n",
    "print(c - d)"
   ]
  },
  {
   "cell_type": "markdown",
   "metadata": {},
   "source": [
    "To make this process simpler, PyTorch tensors have built in methods for changing data types on the fly."
   ]
  },
  {
   "cell_type": "code",
   "execution_count": 7,
   "metadata": {},
   "outputs": [
    {
     "name": "stdout",
     "output_type": "stream",
     "text": [
      "Float:  tensor([0., 0., 0.])\n",
      "Double: tensor([0., 0., 0.], dtype=torch.float64)\n",
      "Long:   tensor([0, 0, 0])\n",
      "Int:    tensor([0, 0, 0], dtype=torch.int32)\n",
      "\n",
      "Note that these methods return copies of the tensor and do not modify it.\n",
      "The original tensors are still in memory:\n",
      "tensor([1., 2., 3.])\n",
      "tensor([1, 2, 3])\n"
     ]
    }
   ],
   "source": [
    "c = torch.tensor([1., 2., 3.])\n",
    "d = torch.tensor([1, 2, 3])\n",
    "\n",
    "print(\"Float: \", c.float() - d.float())\n",
    "print(\"Double:\", c.double() - d.double())\n",
    "print(\"Long:  \", c.long() - d.long())\n",
    "print(\"Int:   \", c.int() - d.int())\n",
    "\n",
    "print('\\nNote that these methods return copies of the tensor and do not modify it.')\n",
    "print('The original tensors are still in memory:')\n",
    "print(c)\n",
    "print(d)"
   ]
  },
  {
   "cell_type": "markdown",
   "metadata": {},
   "source": [
    "PyTorch is similar to Numpy, but is able to speed up calculations using GPUs. If this notebook is buing run with access to a GPU, the following cell will demonstrate how to load data onto a GPU. We will work with cloud GPU computing later on in the semester."
   ]
  },
  {
   "cell_type": "code",
   "execution_count": 8,
   "metadata": {},
   "outputs": [
    {
     "name": "stdout",
     "output_type": "stream",
     "text": [
      "This computer does not have access to a GPU\n"
     ]
    }
   ],
   "source": [
    "if torch.cuda.is_available():\n",
    "    #Send data to GPU\n",
    "    b = b.to(torch.device('cuda:0'))\n",
    "    print(b)\n",
    "    \n",
    "    #Retrieve data from GPU\n",
    "    b = b.to(torch.device('cpu'))\n",
    "    print(b)\n",
    "    \n",
    "else:\n",
    "    print(\"This computer does not have access to a GPU\")"
   ]
  },
  {
   "cell_type": "markdown",
   "metadata": {},
   "source": [
    "PyTorch tensors support element-wise operations, similar to Numpy arrays, but dissimilar from mathematical tensors."
   ]
  },
  {
   "cell_type": "code",
   "execution_count": 9,
   "metadata": {},
   "outputs": [
    {
     "name": "stdout",
     "output_type": "stream",
     "text": [
      "a =  tensor([1, 2, 3])\n",
      "b =  tensor([4, 5, 6]) \n",
      "\n",
      "a * b =  tensor([ 4, 10, 18])\n",
      "b * 2 =  tensor([ 8, 10, 12])\n",
      "a + b =  tensor([5, 7, 9])\n",
      "a + 1 =  tensor([2, 3, 4])\n"
     ]
    }
   ],
   "source": [
    "a = torch.tensor([1, 2, 3])\n",
    "b = torch.tensor([4, 5, 6])\n",
    "\n",
    "print('a = ', a)\n",
    "print('b = ', b, '\\n')\n",
    "\n",
    "print('a * b = ', a * b)   #element-wise vector multiplication\n",
    "print('b * 2 = ', b * 2)   #element-wise scalar multiplication\n",
    "print('a + b = ', a + b)   #element-wise vector addition\n",
    "print('a + 1 = ', a + 1)   #element-wise scalar addition"
   ]
  },
  {
   "cell_type": "markdown",
   "metadata": {},
   "source": [
    "Like Numpy, PyTorch broadcasts operations. The example below shows how traditional matrix multiplication is carried-out. Other operations can be broadcast to make the use seem less trivial."
   ]
  },
  {
   "cell_type": "code",
   "execution_count": 10,
   "metadata": {},
   "outputs": [
    {
     "name": "stdout",
     "output_type": "stream",
     "text": [
      "X =  tensor([[0, 1, 2],\n",
      "        [3, 4, 5]])\n",
      "w =  tensor([1, 2, 3])\n",
      "X.matmul(w) =  tensor([ 8, 26])\n",
      "\n",
      "Now compare to result with a re-shaped w\n",
      "w =  tensor([[1],\n",
      "        [2],\n",
      "        [3]])\n",
      "X.matmul(w) =  tensor([[ 8],\n",
      "        [26]])\n"
     ]
    }
   ],
   "source": [
    "X = torch.arange(6).view(2,3)\n",
    "print('X = ', X)\n",
    "\n",
    "w = torch.tensor([1,2,3])\n",
    "print('w = ', w)\n",
    "\n",
    "Xw = X.matmul(w)\n",
    "print('X.matmul(w) = ', Xw)\n",
    "\n",
    "print('\\nNow compare to result with a re-shaped w')\n",
    "w = w.view(-1,1)\n",
    "print('w = ', w)\n",
    "\n",
    "Xw = X.matmul(w)\n",
    "print('X.matmul(w) = ', Xw)\n"
   ]
  }
 ],
 "metadata": {
  "kernelspec": {
   "display_name": "Python 3",
   "language": "python",
   "name": "python3"
  },
  "language_info": {
   "codemirror_mode": {
    "name": "ipython",
    "version": 3
   },
   "file_extension": ".py",
   "mimetype": "text/x-python",
   "name": "python",
   "nbconvert_exporter": "python",
   "pygments_lexer": "ipython3",
   "version": "3.7.1"
  }
 },
 "nbformat": 4,
 "nbformat_minor": 2
}
